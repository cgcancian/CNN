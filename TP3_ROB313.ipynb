{
  "nbformat": 4,
  "nbformat_minor": 0,
  "metadata": {
    "colab": {
      "name": "TP3-ROB313.ipynb",
      "version": "0.3.2",
      "provenance": [],
      "collapsed_sections": []
    },
    "kernelspec": {
      "name": "python3",
      "display_name": "Python 3"
    },
    "accelerator": "GPU"
  },
  "cells": [
    {
      "metadata": {
        "id": "8Q7PVOVes7oN",
        "colab_type": "text"
      },
      "cell_type": "markdown",
      "source": [
        "# TP3 - ROB313\n",
        "### Caio GARCIA CANCIAN and Majd MAKTOUF\n",
        "\n",
        "This notebook contains the code used to define and train the models discussed in the report. It is simplified version of the given notebook that contains only the parts needed to test new models and architectures."
      ]
    },
    {
      "metadata": {
        "id": "w5FWCUWzxF6y",
        "colab_type": "text"
      },
      "cell_type": "markdown",
      "source": [
        "## 1. Useful functions and imports"
      ]
    },
    {
      "metadata": {
        "id": "2b7qRWHZtruX",
        "colab_type": "text"
      },
      "cell_type": "markdown",
      "source": [
        "### Plotting functions and compatibility imports"
      ]
    },
    {
      "metadata": {
        "id": "Br8rGXZxs4T9",
        "colab_type": "code",
        "colab": {}
      },
      "cell_type": "code",
      "source": [
        "# Python 2/3 compatibility\n",
        "from __future__ import print_function, division\n",
        "\n",
        "import itertools\n",
        "import time\n",
        "\n",
        "\n",
        "import numpy as np\n",
        "import matplotlib.pyplot as plt\n",
        "\n",
        "# Colors from Colorbrewer Paired_12\n",
        "colors = [[31, 120, 180], [51, 160, 44]]\n",
        "colors = [(r / 255, g / 255, b / 255) for (r, g, b) in colors]\n",
        "\n",
        "# functions to show an image\n",
        "def imshow(img):\n",
        "    \"\"\"\n",
        "    :param img: (PyTorch Tensor)\n",
        "    \"\"\"\n",
        "    # unnormalize\n",
        "    img = img / 2 + 0.5     \n",
        "    # Convert tensor to numpy array\n",
        "    npimg = img.numpy()\n",
        "    # Color channel first -> color channel last\n",
        "    plt.imshow(np.transpose(npimg, (1, 2, 0)))\n",
        "\n",
        "\n",
        "\n",
        "def plot_losses(train_history, val_history):\n",
        "    x = np.arange(1, len(train_history) + 1)\n",
        "\n",
        "    plt.figure(figsize=(8, 6))\n",
        "    plt.plot(x, train_history, color=colors[0], label=\"Training loss\", linewidth=2)\n",
        "    plt.plot(x, val_history, color=colors[1], label=\"Validation loss\", linewidth=2)\n",
        "    plt.xlabel('Epoch')\n",
        "    plt.ylabel('Loss')\n",
        "    plt.legend(loc='upper right')\n",
        "    plt.title(\"Evolution of the training and validation loss\")\n",
        "    plt.show()\n",
        "\n",
        "def plot_confusion_matrix(cm, classes,\n",
        "                          normalize=False,\n",
        "                          title='Confusion matrix',\n",
        "                          cmap=plt.cm.Blues):\n",
        "    \"\"\"\n",
        "    This function prints and plots the confusion matrix.\n",
        "    Normalization can be applied by setting `normalize=True`.\n",
        "    from http://scikit-learn.org/stable/auto_examples/model_selection/plot_confusion_matrix.html\n",
        "    :param cm: (numpy matrix) confusion matrix\n",
        "    :param classes: [str]\n",
        "    :param normalize: (bool)\n",
        "    :param title: (str)\n",
        "    :param cmap: (matplotlib color map)\n",
        "    \"\"\"\n",
        "    if normalize:\n",
        "        cm = cm.astype('float') / cm.sum(axis=1)[:, np.newaxis]\n",
        "        \n",
        "    plt.figure(figsize=(8, 8))   \n",
        "    plt.imshow(cm, interpolation='nearest', cmap=cmap)\n",
        "    plt.title(title)\n",
        "    plt.colorbar()\n",
        "    tick_marks = np.arange(len(classes))\n",
        "    plt.xticks(tick_marks, classes, rotation=45)\n",
        "    plt.yticks(tick_marks, classes)\n",
        "\n",
        "    fmt = '.2f' if normalize else 'd'\n",
        "    thresh = cm.max() / 2.\n",
        "    for i, j in itertools.product(range(cm.shape[0]), range(cm.shape[1])):\n",
        "        plt.text(j, i, format(cm[i, j], fmt),\n",
        "                 horizontalalignment=\"center\",\n",
        "                 color=\"white\" if cm[i, j] > thresh else \"black\")\n",
        "\n",
        "    plt.tight_layout()\n",
        "    plt.ylabel('True label')\n",
        "    plt.xlabel('Predicted label')"
      ],
      "execution_count": 0,
      "outputs": []
    },
    {
      "metadata": {
        "id": "5aJBH6Yst648",
        "colab_type": "text"
      },
      "cell_type": "markdown",
      "source": [
        "### Install PyTorch and Torchvision"
      ]
    },
    {
      "metadata": {
        "id": "IENHId8IuA5o",
        "colab_type": "code",
        "outputId": "3ca13d5d-70a3-4029-ae1f-3ae5f6b998dd",
        "colab": {
          "base_uri": "https://localhost:8080/",
          "height": 143
        }
      },
      "cell_type": "code",
      "source": [
        "!pip install http://download.pytorch.org/whl/cu92/torch-0.4.1-cp36-cp36m-linux_x86_64.whl\n",
        "!pip install torchvision"
      ],
      "execution_count": 20,
      "outputs": [
        {
          "output_type": "stream",
          "text": [
            "Requirement already satisfied: torch==0.4.1 from http://download.pytorch.org/whl/cu92/torch-0.4.1-cp36-cp36m-linux_x86_64.whl in /usr/local/lib/python3.6/dist-packages (0.4.1)\n",
            "Requirement already satisfied: torchvision in /usr/local/lib/python3.6/dist-packages (0.2.1)\n",
            "Requirement already satisfied: pillow>=4.1.1 in /usr/local/lib/python3.6/dist-packages (from torchvision) (5.3.0)\n",
            "Requirement already satisfied: six in /usr/local/lib/python3.6/dist-packages (from torchvision) (1.11.0)\n",
            "Requirement already satisfied: numpy in /usr/local/lib/python3.6/dist-packages (from torchvision) (1.14.6)\n",
            "Requirement already satisfied: torch in /usr/local/lib/python3.6/dist-packages (from torchvision) (0.4.1)\n"
          ],
          "name": "stdout"
        }
      ]
    },
    {
      "metadata": {
        "id": "s1lu0qpBuFzh",
        "colab_type": "text"
      },
      "cell_type": "markdown",
      "source": [
        "### Auxiiary functions"
      ]
    },
    {
      "metadata": {
        "id": "AeoUq97nuS6a",
        "colab_type": "code",
        "outputId": "6c701c55-50ed-446e-d393-22ec2fd4c433",
        "colab": {
          "base_uri": "https://localhost:8080/",
          "height": 52
        }
      },
      "cell_type": "code",
      "source": [
        "import numpy as np\n",
        "import torch\n",
        "import torchvision\n",
        "import torchvision.transforms as transforms\n",
        "import torch.nn as nn\n",
        "import torch.nn.functional as F\n",
        "\n",
        "'''\n",
        "Seed the random generator to have reproducible results:\n",
        "'''\n",
        "seed = 42\n",
        "np.random.seed(seed)\n",
        "torch.manual_seed(seed)\n",
        "if torch.cuda.is_available():\n",
        "  # Make CuDNN Determinist\n",
        "  torch.backends.cudnn.deterministic = True\n",
        "  torch.cuda.manual_seed(seed)\n",
        "# Define default device, we should use the GPU (cuda) if available\n",
        "device = torch.device(\"cuda\" if torch.cuda.is_available() else \"cpu\")\n",
        "\n",
        "\n",
        "'''\n",
        "Define subset of the dataset\n",
        "'''\n",
        "from torch.utils.data.sampler import SubsetRandomSampler\n",
        "n_training_samples = 45000 # Max: 50 000 - n_val_samples\n",
        "n_val_samples = 5000\n",
        "n_test_samples = 10000\n",
        "train_sampler = SubsetRandomSampler(np.arange(n_training_samples, dtype=np.int64))\n",
        "val_sampler = SubsetRandomSampler(np.arange(n_training_samples, n_training_samples + n_val_samples, dtype=np.int64))\n",
        "test_sampler = SubsetRandomSampler(np.arange(n_test_samples, dtype=np.int64))\n",
        "# (In the last case, indexes do not need to account for training ones because the train=False parameter in datasets.CIFAR will select from the test set)\n",
        "\n",
        "num_workers = 2\n",
        "test_batch_size = 4\n",
        "\n",
        "ttransform = transforms.Compose(\n",
        "    [transforms.RandomHorizontalFlip(),\n",
        "     transforms.RandomCrop(size=32,padding=4),\n",
        "     transforms.ToTensor(),\n",
        "     transforms.Normalize(mean=(0.4914, 0.4822, 0.4465), std=(0.2023, 0.1994, 0.2010))])\n",
        "\n",
        "transform = transforms.Compose(\n",
        "    [transforms.ToTensor(),\n",
        "     transforms.Normalize(mean=(0.4914, 0.4822, 0.4465), std=(0.2023, 0.1994, 0.2010))])\n",
        "\n",
        "train_set = torchvision.datasets.CIFAR10(root='./data', train=True,\n",
        "                                        download=True, transform=ttransform)\n",
        "\n",
        "train_loader = torch.utils.data.DataLoader(train_set, batch_size=test_batch_size, sampler=train_sampler,\n",
        "                                          num_workers=num_workers)\n",
        "\n",
        "test_set = torchvision.datasets.CIFAR10(root='./data', train=False,\n",
        "                                       download=True, transform=ttransform)\n",
        "\n",
        "test_loader = torch.utils.data.DataLoader(test_set, batch_size=test_batch_size, sampler=test_sampler,\n",
        "                                         num_workers=num_workers)\n",
        "\n",
        "classes = ('plane', 'car', 'bird', 'cat',\n",
        "           'deer', 'dog', 'frog', 'horse', 'ship', 'truck')\n",
        "\n",
        "'''\n",
        "Define a loss function and optimizer\n",
        "'''\n",
        "import torch.optim as optim\n",
        "def createLossAndOptimizer(net, learning_rate=0.001):\n",
        "    # it combines softmax with negative log likelihood loss\n",
        "    criterion = nn.CrossEntropyLoss()  \n",
        "    #optimizer = optim.SGD(net.parameters(), lr=learning_rate, momentum=0.9)\n",
        "    optimizer = optim.Adam(net.parameters(), lr=learning_rate)\n",
        "    return criterion, optimizer\n",
        "\n",
        "'''\n",
        "Data loader\n",
        "'''\n",
        "def get_train_loader(batch_size):\n",
        "    return torch.utils.data.DataLoader(train_set, batch_size=batch_size, sampler=train_sampler,\n",
        "                                              num_workers=num_workers)\n",
        "\n",
        "# Use larger batch size for validation to speed up computation\n",
        "val_loader = torch.utils.data.DataLoader(train_set, batch_size=128, sampler=val_sampler,\n",
        "                                          num_workers=num_workers)\n",
        "\n",
        "\n",
        "def get_output_size(in_size, kernel_size, stride=1, padding=0):\n",
        "    \"\"\"\n",
        "    Get the output size given all the parameters of the convolution\n",
        "    :param in_size: (int) input size\n",
        "    :param kernel_size: (int)\n",
        "    :param stride: (int)\n",
        "    :param paddind: (int)\n",
        "    :return: (int)\n",
        "    \"\"\"\n",
        "    return int((in_size - kernel_size + 2 * padding) / stride) + 1"
      ],
      "execution_count": 35,
      "outputs": [
        {
          "output_type": "stream",
          "text": [
            "Files already downloaded and verified\n",
            "Files already downloaded and verified\n"
          ],
          "name": "stdout"
        }
      ]
    },
    {
      "metadata": {
        "id": "I4r1XwLCvaln",
        "colab_type": "text"
      },
      "cell_type": "markdown",
      "source": [
        "### Training loop definition"
      ]
    },
    {
      "metadata": {
        "id": "4lF8R7-AvdU4",
        "colab_type": "code",
        "colab": {}
      },
      "cell_type": "code",
      "source": [
        "def train(net, batch_size, n_epochs, learning_rate):\n",
        "    \"\"\"\n",
        "    Train a neural network and print statistics of the training\n",
        "    \n",
        "    :param net: (PyTorch Neural Network)\n",
        "    :param batch_size: (int)\n",
        "    :param n_epochs: (int)  Number of iterations on the training set\n",
        "    :param learning_rate: (float) learning rate used by the optimizer\n",
        "    \"\"\"\n",
        "    print(\"===== HYPERPARAMETERS =====\")\n",
        "    print(\"batch_size=\", batch_size)\n",
        "    print(\"n_epochs=\", n_epochs)\n",
        "    print(\"learning_rate=\", learning_rate)\n",
        "    print(\"=\" * 30)\n",
        "    \n",
        "    train_loader = get_train_loader(batch_size)\n",
        "    n_minibatches = len(train_loader)\n",
        "\n",
        "    criterion, optimizer = createLossAndOptimizer(net, learning_rate)\n",
        "    # Init variables used for plotting the loss\n",
        "    train_history = []\n",
        "    val_history = []\n",
        "\n",
        "    training_start_time = time.time()\n",
        "    best_error = np.inf\n",
        "    best_model_path = \"best_model.pth\"\n",
        "    \n",
        "    # Move model to gpu if possible\n",
        "    net = net.to(device)\n",
        "\n",
        "    for epoch in range(n_epochs):  # loop over the dataset multiple times\n",
        "\n",
        "        running_loss = 0.0\n",
        "        print_every = n_minibatches // 10\n",
        "        start_time = time.time()\n",
        "        total_train_loss = 0\n",
        "        \n",
        "        for i, (inputs, labels) in enumerate(train_loader):\n",
        "\n",
        "            # Move tensors to correct device\n",
        "            inputs, labels = inputs.to(device), labels.to(device)\n",
        "\n",
        "            # zero the parameter gradients\n",
        "            optimizer.zero_grad()\n",
        "\n",
        "            # forward + backward + optimize\n",
        "            outputs = net(inputs)\n",
        "            loss = criterion(outputs, labels)\n",
        "            loss.backward()\n",
        "            optimizer.step()\n",
        "\n",
        "            # print statistics\n",
        "            running_loss += loss.item()\n",
        "            total_train_loss += loss.item()\n",
        "\n",
        "            # print every 10th of epoch\n",
        "            if (i + 1) % (print_every + 1) == 0:    \n",
        "                print(\"Epoch {}, {:d}% \\t train_loss: {:.2f} took: {:.2f}s\".format(\n",
        "                      epoch + 1, int(100 * (i + 1) / n_minibatches), running_loss / print_every,\n",
        "                      time.time() - start_time))\n",
        "                running_loss = 0.0\n",
        "                start_time = time.time()\n",
        "\n",
        "        train_history.append(total_train_loss / len(train_loader))\n",
        "\n",
        "        total_val_loss = 0\n",
        "        # Do a pass on the validation set\n",
        "        # We don't need to compute gradient,\n",
        "        # we save memory and computation using th.no_grad()\n",
        "        with torch.no_grad():\n",
        "          for inputs, labels in val_loader:\n",
        "              # Move tensors to correct device\n",
        "              inputs, labels = inputs.to(device), labels.to(device)\n",
        "              # Forward pass\n",
        "              predictions = net(inputs)\n",
        "              val_loss = criterion(predictions, labels)\n",
        "              total_val_loss += val_loss.item()\n",
        "            \n",
        "        val_history.append(total_val_loss / len(val_loader))\n",
        "        # Save model that performs best on validation set\n",
        "        if total_val_loss < best_error:\n",
        "            best_error = total_val_loss\n",
        "            torch.save(net.state_dict(), best_model_path)\n",
        "\n",
        "        print(\"Validation loss = {:.2f}\".format(total_val_loss / len(val_loader)))\n",
        "\n",
        "    print(\"Training Finished, took {:.2f}s\".format(time.time() - training_start_time))\n",
        "    \n",
        "    # Load best model\n",
        "    net.load_state_dict(torch.load(best_model_path))\n",
        "    \n",
        "    return train_history, val_history"
      ],
      "execution_count": 0,
      "outputs": []
    },
    {
      "metadata": {
        "id": "Goz9Y2LVyF-t",
        "colab_type": "text"
      },
      "cell_type": "markdown",
      "source": [
        "### Evaluation functions"
      ]
    },
    {
      "metadata": {
        "id": "LGoPABIsyJpi",
        "colab_type": "code",
        "colab": {}
      },
      "cell_type": "code",
      "source": [
        "def dataset_accuracy(net, data_loader, name=\"\"):\n",
        "    net = net.to(device)\n",
        "    correct = 0\n",
        "    total = 0\n",
        "    for images, labels in data_loader:\n",
        "        images, labels = images.to(device), labels.to(device)\n",
        "        outputs = net(images)\n",
        "        _, predicted = torch.max(outputs, 1)\n",
        "        total += labels.size(0)\n",
        "        correct += (predicted == labels).sum()\n",
        "    accuracy = 100 * float(correct) / total\n",
        "    print('Accuracy of the network on the {} {} images: {:.2f} %'.format(total, name, accuracy))\n",
        "\n",
        "def train_set_accuracy(net):\n",
        "    dataset_accuracy(net, train_loader, \"train\")\n",
        "\n",
        "def val_set_accuracy(net):\n",
        "    dataset_accuracy(net, val_loader, \"validation\")  \n",
        "    \n",
        "def test_set_accuracy(net):\n",
        "    dataset_accuracy(net, test_loader, \"test\")\n",
        "\n",
        "def compute_accuracy(net):\n",
        "    train_set_accuracy(net)\n",
        "    val_set_accuracy(net)\n",
        "    test_set_accuracy(net)  \n",
        "    \n",
        "def accuracy_per_class(net):\n",
        "    net = net.to(device)\n",
        "    n_classes = 10\n",
        "    # (real, predicted)\n",
        "    confusion_matrix = np.zeros((n_classes, n_classes), dtype=np.int64)\n",
        "\n",
        "    for images, labels in test_loader:\n",
        "        images, labels = images, labels = images.to(device), labels.to(device)\n",
        "        outputs = net(images)\n",
        "        _, predicted = torch.max(outputs.data, 1)\n",
        "        for i in range(test_batch_size):\n",
        "            confusion_matrix[labels[i], predicted[i]] += 1\n",
        "            label = labels[i]\n",
        "\n",
        "    print(\"{:<10} {:^10}\".format(\"Class\", \"Accuracy (%)\"))\n",
        "    for i in range(n_classes):\n",
        "        class_total = confusion_matrix[i, :].sum()\n",
        "        class_correct = confusion_matrix[i, i]\n",
        "        percentage_correct = 100.0 * float(class_correct) / class_total\n",
        "        \n",
        "        print('{:<10} {:^10.2f}'.format(classes[i], percentage_correct))\n",
        "    return confusion_matrix\n"
      ],
      "execution_count": 0,
      "outputs": []
    },
    {
      "metadata": {
        "id": "TQk3kT2-ypDB",
        "colab_type": "text"
      },
      "cell_type": "markdown",
      "source": [
        "## 2. Convolutional Neural Networks models"
      ]
    },
    {
      "metadata": {
        "id": "GoCzCgPjz-0G",
        "colab_type": "code",
        "colab": {}
      },
      "cell_type": "code",
      "source": [
        "get_output_size(in_size = 4, kernel_size = 2, stride=1, padding=0)"
      ],
      "execution_count": 0,
      "outputs": []
    },
    {
      "metadata": {
        "id": "zfZ2Ka_8yxWi",
        "colab_type": "code",
        "colab": {}
      },
      "cell_type": "code",
      "source": [
        "class MyConvolutionalNetwork2(nn.Module):\n",
        "    def __init__(self):\n",
        "        super(MyConvolutionalNetwork2, self).__init__()\n",
        "        \n",
        "        ## Convolutional module 1\n",
        "        # Input size: 3x32x32\n",
        "        # Output size: 64x16x16\n",
        "        self.conv1 = nn.Conv2d(3, 64, kernel_size=3, stride=1, padding=1)\n",
        "        self.pool1 = nn.MaxPool2d(kernel_size=2, stride=2, padding=0)\n",
        "        self.bnorm1 = nn.BatchNorm2d(64)\n",
        "        \n",
        "        ## Convolutional module 2\n",
        "        # Input size: 64x16x16\n",
        "        # Output size: 128x8x8\n",
        "        self.conv2 = nn.Conv2d(64,128,kernel_size=3, stride=1, padding=1)\n",
        "        self.pool2 = nn.MaxPool2d(kernel_size=2, stride=2, padding=0)\n",
        "        self.bnorm2 = nn.BatchNorm2d(128)\n",
        "        \n",
        "        ## Convolutional module 3\n",
        "        # Input size: 128x8x8\n",
        "        # Output size: 256x4x4\n",
        "        self.conv3 = nn.Conv2d(128,384,kernel_size=3, stride=1, padding=1)\n",
        "        self.conv4 = nn.Conv2d(384,384,kernel_size=3, stride=1, padding=1)\n",
        "        self.conv5 = nn.Conv2d(384,256,kernel_size=3, stride=1, padding=1)\n",
        "        self.pool3 = nn.MaxPool2d(kernel_size=2, stride=2, padding=0)\n",
        "        self.bnorm3 = nn.BatchNorm2d(256)\n",
        "               \n",
        "        \n",
        "        # Size of the output of the last convolution:\n",
        "        self.flattened_size = 256 * 4 * 4\n",
        "        self.fc1 = nn.Linear(self.flattened_size, 2048)\n",
        "        self.fc2 = nn.Linear(2048,1024)\n",
        "        self.fc3 = nn.Linear(1024, 10)\n",
        "        \n",
        "        # Dropout regularization to avoid overfitting\n",
        "        self.Drop = nn.Dropout(p=0.5)\n",
        "\n",
        "    def forward(self, x):\n",
        "        \"\"\"\n",
        "        Forward pass,\n",
        "        x shape is (batch_size, 3, 32, 32)\n",
        "        (color channel first)\n",
        "        in the comments, we omit the batch_size in the shape\n",
        "        \"\"\"\n",
        "        \n",
        "        x = F.relu(self.conv1(x))\n",
        "        x = self.pool1(x)\n",
        "        x = self.bnorm1(x)\n",
        "        \n",
        "        x = F.relu(self.conv2(x))\n",
        "        x = self.pool2(x)\n",
        "        x = self.bnorm2(x)\n",
        "        \n",
        "        x = F.relu(self.conv3(x))\n",
        "        x = F.relu(self.conv4(x))\n",
        "        x = F.relu(self.conv5(x))\n",
        "        x = self.pool3(x)\n",
        "        x = self.bnorm3(x)\n",
        "        \n",
        "        \n",
        "        # Check the output size\n",
        "        output_size = np.prod(x.size()[1:])\n",
        "        assert output_size == self.flattened_size,\\\n",
        "                \"self.flattened_size is invalid {} != {}\".format(output_size, self.flattened_size)\n",
        "        \n",
        "        x = x.view(-1, self.flattened_size)\n",
        "        x = self.Drop(x)\n",
        "        x = F.relu(self.fc1(x))\n",
        "        x = self.Drop(x)\n",
        "        x = F.relu(self.fc2(x))\n",
        "        x = self.fc3(x)\n",
        "        return x"
      ],
      "execution_count": 0,
      "outputs": []
    },
    {
      "metadata": {
        "id": "aRBdgegWzBfX",
        "colab_type": "code",
        "outputId": "d9ba8072-ddfc-4824-c94b-7fe9a84ef884",
        "colab": {
          "base_uri": "https://localhost:8080/",
          "height": 5431
        }
      },
      "cell_type": "code",
      "source": [
        "net = MyConvolutionalNetwork2()\n",
        "train_history, val_history = train(net, batch_size=16, n_epochs=25, learning_rate=0.001)"
      ],
      "execution_count": 0,
      "outputs": [
        {
          "output_type": "stream",
          "text": [
            "===== HYPERPARAMETERS =====\n",
            "batch_size= 16\n",
            "n_epochs= 30\n",
            "learning_rate= 0.001\n",
            "==============================\n",
            "Epoch 1, 10% \t train_loss: 2.05 took: 9.65s\n",
            "Epoch 1, 20% \t train_loss: 1.87 took: 9.14s\n",
            "Epoch 1, 30% \t train_loss: 1.80 took: 9.22s\n",
            "Epoch 1, 40% \t train_loss: 1.70 took: 9.18s\n",
            "Epoch 1, 50% \t train_loss: 1.65 took: 9.19s\n",
            "Epoch 1, 60% \t train_loss: 1.60 took: 9.30s\n",
            "Epoch 1, 70% \t train_loss: 1.55 took: 9.15s\n",
            "Epoch 1, 80% \t train_loss: 1.53 took: 9.22s\n",
            "Epoch 1, 90% \t train_loss: 1.49 took: 9.29s\n",
            "Validation loss = 1.38\n",
            "Epoch 2, 10% \t train_loss: 1.45 took: 9.19s\n",
            "Epoch 2, 20% \t train_loss: 1.38 took: 9.24s\n",
            "Epoch 2, 30% \t train_loss: 1.37 took: 9.30s\n",
            "Epoch 2, 40% \t train_loss: 1.33 took: 9.18s\n",
            "Epoch 2, 50% \t train_loss: 1.32 took: 9.30s\n",
            "Epoch 2, 60% \t train_loss: 1.26 took: 9.25s\n",
            "Epoch 2, 70% \t train_loss: 1.28 took: 9.36s\n",
            "Epoch 2, 80% \t train_loss: 1.19 took: 9.13s\n",
            "Epoch 2, 90% \t train_loss: 1.22 took: 9.33s\n",
            "Validation loss = 1.08\n",
            "Epoch 3, 10% \t train_loss: 1.18 took: 9.22s\n",
            "Epoch 3, 20% \t train_loss: 1.16 took: 9.14s\n",
            "Epoch 3, 30% \t train_loss: 1.10 took: 9.13s\n",
            "Epoch 3, 40% \t train_loss: 1.06 took: 9.20s\n",
            "Epoch 3, 50% \t train_loss: 1.09 took: 9.12s\n",
            "Epoch 3, 60% \t train_loss: 1.06 took: 9.21s\n",
            "Epoch 3, 70% \t train_loss: 1.08 took: 9.26s\n",
            "Epoch 3, 80% \t train_loss: 1.03 took: 9.18s\n",
            "Epoch 3, 90% \t train_loss: 1.04 took: 9.34s\n",
            "Validation loss = 0.96\n",
            "Epoch 4, 10% \t train_loss: 1.01 took: 9.22s\n",
            "Epoch 4, 20% \t train_loss: 0.95 took: 9.26s\n",
            "Epoch 4, 30% \t train_loss: 1.01 took: 9.49s\n",
            "Epoch 4, 40% \t train_loss: 0.93 took: 9.59s\n",
            "Epoch 4, 50% \t train_loss: 0.97 took: 9.20s\n",
            "Epoch 4, 60% \t train_loss: 0.96 took: 9.29s\n",
            "Epoch 4, 70% \t train_loss: 0.95 took: 9.26s\n",
            "Epoch 4, 80% \t train_loss: 0.93 took: 9.21s\n",
            "Epoch 4, 90% \t train_loss: 0.93 took: 9.29s\n",
            "Validation loss = 0.88\n",
            "Epoch 5, 10% \t train_loss: 0.88 took: 9.18s\n",
            "Epoch 5, 20% \t train_loss: 0.89 took: 9.34s\n",
            "Epoch 5, 30% \t train_loss: 0.89 took: 9.18s\n",
            "Epoch 5, 40% \t train_loss: 0.86 took: 9.09s\n",
            "Epoch 5, 50% \t train_loss: 0.87 took: 9.17s\n",
            "Epoch 5, 60% \t train_loss: 0.85 took: 9.22s\n",
            "Epoch 5, 70% \t train_loss: 0.87 took: 9.20s\n",
            "Epoch 5, 80% \t train_loss: 0.85 took: 9.24s\n",
            "Epoch 5, 90% \t train_loss: 0.82 took: 9.06s\n",
            "Validation loss = 0.82\n",
            "Epoch 6, 10% \t train_loss: 0.83 took: 9.20s\n",
            "Epoch 6, 20% \t train_loss: 0.76 took: 9.23s\n",
            "Epoch 6, 30% \t train_loss: 0.80 took: 9.16s\n",
            "Epoch 6, 40% \t train_loss: 0.79 took: 9.19s\n",
            "Epoch 6, 50% \t train_loss: 0.79 took: 9.16s\n",
            "Epoch 6, 60% \t train_loss: 0.77 took: 9.10s\n",
            "Epoch 6, 70% \t train_loss: 0.78 took: 9.21s\n",
            "Epoch 6, 80% \t train_loss: 0.79 took: 9.29s\n",
            "Epoch 6, 90% \t train_loss: 0.77 took: 9.14s\n",
            "Validation loss = 0.73\n",
            "Epoch 7, 10% \t train_loss: 0.74 took: 9.29s\n",
            "Epoch 7, 20% \t train_loss: 0.72 took: 9.36s\n",
            "Epoch 7, 30% \t train_loss: 0.72 took: 9.18s\n",
            "Epoch 7, 40% \t train_loss: 0.72 took: 9.32s\n",
            "Epoch 7, 50% \t train_loss: 0.72 took: 9.17s\n",
            "Epoch 7, 60% \t train_loss: 0.72 took: 9.61s\n",
            "Epoch 7, 70% \t train_loss: 0.71 took: 9.47s\n",
            "Epoch 7, 80% \t train_loss: 0.74 took: 9.09s\n",
            "Epoch 7, 90% \t train_loss: 0.74 took: 9.17s\n",
            "Validation loss = 0.69\n",
            "Epoch 8, 10% \t train_loss: 0.69 took: 9.24s\n",
            "Epoch 8, 20% \t train_loss: 0.69 took: 9.28s\n",
            "Epoch 8, 30% \t train_loss: 0.65 took: 9.32s\n",
            "Epoch 8, 40% \t train_loss: 0.70 took: 9.05s\n",
            "Epoch 8, 50% \t train_loss: 0.64 took: 9.21s\n",
            "Epoch 8, 60% \t train_loss: 0.67 took: 9.18s\n",
            "Epoch 8, 70% \t train_loss: 0.67 took: 9.29s\n",
            "Epoch 8, 80% \t train_loss: 0.68 took: 9.08s\n",
            "Epoch 8, 90% \t train_loss: 0.67 took: 9.08s\n",
            "Validation loss = 0.68\n",
            "Epoch 9, 10% \t train_loss: 0.64 took: 9.22s\n",
            "Epoch 9, 20% \t train_loss: 0.64 took: 9.19s\n",
            "Epoch 9, 30% \t train_loss: 0.62 took: 9.16s\n",
            "Epoch 9, 40% \t train_loss: 0.73 took: 9.28s\n",
            "Epoch 9, 50% \t train_loss: 0.65 took: 9.33s\n",
            "Epoch 9, 60% \t train_loss: 0.64 took: 9.31s\n",
            "Epoch 9, 70% \t train_loss: 0.64 took: 9.19s\n",
            "Epoch 9, 80% \t train_loss: 0.63 took: 9.13s\n",
            "Epoch 9, 90% \t train_loss: 0.64 took: 9.10s\n",
            "Validation loss = 0.61\n",
            "Epoch 10, 10% \t train_loss: 0.60 took: 9.17s\n",
            "Epoch 10, 20% \t train_loss: 0.61 took: 9.22s\n",
            "Epoch 10, 30% \t train_loss: 0.59 took: 9.13s\n",
            "Epoch 10, 40% \t train_loss: 0.62 took: 9.15s\n",
            "Epoch 10, 50% \t train_loss: 0.59 took: 9.23s\n",
            "Epoch 10, 60% \t train_loss: 0.59 took: 9.16s\n",
            "Epoch 10, 70% \t train_loss: 0.60 took: 9.11s\n",
            "Epoch 10, 80% \t train_loss: 0.60 took: 9.35s\n",
            "Epoch 10, 90% \t train_loss: 0.60 took: 9.13s\n",
            "Validation loss = 0.57\n",
            "Epoch 11, 10% \t train_loss: 0.57 took: 9.20s\n",
            "Epoch 11, 20% \t train_loss: 0.56 took: 9.14s\n",
            "Epoch 11, 30% \t train_loss: 0.56 took: 9.12s\n",
            "Epoch 11, 40% \t train_loss: 0.57 took: 9.14s\n",
            "Epoch 11, 50% \t train_loss: 0.60 took: 9.16s\n",
            "Epoch 11, 60% \t train_loss: 0.59 took: 9.27s\n",
            "Epoch 11, 70% \t train_loss: 0.57 took: 9.21s\n",
            "Epoch 11, 80% \t train_loss: 0.55 took: 9.07s\n",
            "Epoch 11, 90% \t train_loss: 0.73 took: 9.08s\n",
            "Validation loss = 0.61\n",
            "Epoch 12, 10% \t train_loss: 0.55 took: 9.21s\n",
            "Epoch 12, 20% \t train_loss: 0.52 took: 9.08s\n",
            "Epoch 12, 30% \t train_loss: 0.57 took: 9.32s\n",
            "Epoch 12, 40% \t train_loss: 0.53 took: 9.21s\n",
            "Epoch 12, 50% \t train_loss: 0.56 took: 9.25s\n",
            "Epoch 12, 60% \t train_loss: 0.50 took: 9.21s\n",
            "Epoch 12, 70% \t train_loss: 0.53 took: 9.31s\n",
            "Epoch 12, 80% \t train_loss: 0.53 took: 9.25s\n",
            "Epoch 12, 90% \t train_loss: 0.54 took: 9.36s\n",
            "Validation loss = 0.62\n",
            "Epoch 13, 10% \t train_loss: 0.49 took: 9.18s\n",
            "Epoch 13, 20% \t train_loss: 0.49 took: 9.19s\n",
            "Epoch 13, 30% \t train_loss: 0.57 took: 9.38s\n",
            "Epoch 13, 40% \t train_loss: 0.52 took: 9.29s\n",
            "Epoch 13, 50% \t train_loss: 0.51 took: 9.05s\n",
            "Epoch 13, 60% \t train_loss: 0.54 took: 9.19s\n",
            "Epoch 13, 70% \t train_loss: 0.52 took: 9.20s\n",
            "Epoch 13, 80% \t train_loss: 0.52 took: 9.18s\n",
            "Epoch 13, 90% \t train_loss: 0.50 took: 9.06s\n",
            "Validation loss = 0.95\n",
            "Epoch 14, 10% \t train_loss: 0.59 took: 9.34s\n",
            "Epoch 14, 20% \t train_loss: 0.50 took: 9.36s\n",
            "Epoch 14, 30% \t train_loss: 0.49 took: 9.54s\n",
            "Epoch 14, 40% \t train_loss: 0.51 took: 9.18s\n",
            "Epoch 14, 50% \t train_loss: 0.49 took: 9.14s\n",
            "Epoch 14, 60% \t train_loss: 0.52 took: 9.15s\n",
            "Epoch 14, 70% \t train_loss: 0.49 took: 9.17s\n",
            "Epoch 14, 80% \t train_loss: 0.45 took: 9.33s\n",
            "Epoch 14, 90% \t train_loss: 0.48 took: 9.10s\n",
            "Validation loss = 0.58\n",
            "Epoch 15, 10% \t train_loss: 0.45 took: 9.11s\n",
            "Epoch 15, 20% \t train_loss: 0.45 took: 9.20s\n",
            "Epoch 15, 30% \t train_loss: 0.44 took: 9.07s\n",
            "Epoch 15, 40% \t train_loss: 0.47 took: 9.13s\n",
            "Epoch 15, 50% \t train_loss: 0.45 took: 9.05s\n",
            "Epoch 15, 60% \t train_loss: 0.49 took: 9.19s\n",
            "Epoch 15, 70% \t train_loss: 0.51 took: 9.19s\n",
            "Epoch 15, 80% \t train_loss: 0.50 took: 9.24s\n",
            "Epoch 15, 90% \t train_loss: 0.45 took: 9.19s\n",
            "Validation loss = 0.58\n",
            "Epoch 16, 10% \t train_loss: 0.45 took: 9.17s\n",
            "Epoch 16, 20% \t train_loss: 0.44 took: 9.24s\n",
            "Epoch 16, 30% \t train_loss: 0.45 took: 9.03s\n",
            "Epoch 16, 40% \t train_loss: 0.46 took: 9.03s\n",
            "Epoch 16, 50% \t train_loss: 0.48 took: 9.29s\n",
            "Epoch 16, 60% \t train_loss: 0.44 took: 9.21s\n",
            "Epoch 16, 70% \t train_loss: 0.45 took: 9.22s\n",
            "Epoch 16, 80% \t train_loss: 0.47 took: 9.18s\n",
            "Epoch 16, 90% \t train_loss: 0.49 took: 9.12s\n",
            "Validation loss = 0.52\n",
            "Epoch 17, 10% \t train_loss: 0.43 took: 9.11s\n",
            "Epoch 17, 20% \t train_loss: 0.44 took: 9.07s\n",
            "Epoch 17, 30% \t train_loss: 0.43 took: 9.42s\n",
            "Epoch 17, 40% \t train_loss: 0.45 took: 9.28s\n",
            "Epoch 17, 50% \t train_loss: 0.43 took: 9.15s\n",
            "Epoch 17, 60% \t train_loss: 0.44 took: 9.66s\n",
            "Epoch 17, 70% \t train_loss: 0.45 took: 9.11s\n",
            "Epoch 17, 80% \t train_loss: 0.47 took: 9.05s\n",
            "Epoch 17, 90% \t train_loss: 0.44 took: 9.20s\n",
            "Validation loss = 0.54\n",
            "Epoch 18, 10% \t train_loss: 0.42 took: 9.12s\n",
            "Epoch 18, 20% \t train_loss: 0.43 took: 9.03s\n",
            "Epoch 18, 30% \t train_loss: 0.46 took: 9.18s\n",
            "Epoch 18, 40% \t train_loss: 0.48 took: 9.04s\n",
            "Epoch 18, 50% \t train_loss: 0.40 took: 9.04s\n",
            "Epoch 18, 60% \t train_loss: 0.43 took: 9.01s\n",
            "Epoch 18, 70% \t train_loss: 0.41 took: 9.13s\n",
            "Epoch 18, 80% \t train_loss: 0.44 took: 9.15s\n",
            "Epoch 18, 90% \t train_loss: 0.41 took: 9.29s\n",
            "Validation loss = 0.51\n",
            "Epoch 19, 10% \t train_loss: 0.42 took: 9.34s\n",
            "Epoch 19, 20% \t train_loss: 0.41 took: 9.32s\n",
            "Epoch 19, 30% \t train_loss: 0.39 took: 9.27s\n",
            "Epoch 19, 40% \t train_loss: 0.41 took: 9.31s\n",
            "Epoch 19, 50% \t train_loss: 0.43 took: 9.39s\n",
            "Epoch 19, 60% \t train_loss: 0.42 took: 9.46s\n",
            "Epoch 19, 70% \t train_loss: 0.42 took: 9.52s\n",
            "Epoch 19, 80% \t train_loss: 0.41 took: 9.39s\n",
            "Epoch 19, 90% \t train_loss: 0.40 took: 9.36s\n",
            "Validation loss = 0.55\n",
            "Epoch 20, 10% \t train_loss: 0.39 took: 9.40s\n",
            "Epoch 20, 20% \t train_loss: 0.38 took: 9.41s\n",
            "Epoch 20, 30% \t train_loss: 0.40 took: 9.38s\n",
            "Epoch 20, 40% \t train_loss: 0.39 took: 9.37s\n",
            "Epoch 20, 50% \t train_loss: 0.40 took: 9.48s\n",
            "Epoch 20, 60% \t train_loss: 0.41 took: 9.47s\n",
            "Epoch 20, 70% \t train_loss: 0.41 took: 9.43s\n",
            "Epoch 20, 80% \t train_loss: 0.40 took: 9.40s\n",
            "Epoch 20, 90% \t train_loss: 0.38 took: 9.59s\n",
            "Validation loss = 0.52\n",
            "Epoch 21, 10% \t train_loss: 0.35 took: 9.29s\n",
            "Epoch 21, 20% \t train_loss: 0.39 took: 9.27s\n",
            "Epoch 21, 30% \t train_loss: 0.38 took: 9.32s\n",
            "Epoch 21, 40% \t train_loss: 0.37 took: 9.38s\n",
            "Epoch 21, 50% \t train_loss: 0.40 took: 9.24s\n",
            "Epoch 21, 60% \t train_loss: 0.41 took: 9.29s\n",
            "Epoch 21, 70% \t train_loss: 0.38 took: 9.26s\n",
            "Epoch 21, 80% \t train_loss: 0.38 took: 9.30s\n",
            "Epoch 21, 90% \t train_loss: 0.40 took: 9.35s\n",
            "Validation loss = 0.56\n",
            "Epoch 22, 10% \t train_loss: 0.36 took: 9.25s\n",
            "Epoch 22, 20% \t train_loss: 0.35 took: 9.18s\n",
            "Epoch 22, 30% \t train_loss: 0.35 took: 9.21s\n",
            "Epoch 22, 40% \t train_loss: 0.39 took: 9.19s\n",
            "Epoch 22, 50% \t train_loss: 0.39 took: 9.31s\n",
            "Epoch 22, 60% \t train_loss: 0.36 took: 9.22s\n",
            "Epoch 22, 70% \t train_loss: 0.38 took: 9.15s\n",
            "Epoch 22, 80% \t train_loss: 0.37 took: 9.31s\n",
            "Epoch 22, 90% \t train_loss: 0.42 took: 9.17s\n",
            "Validation loss = 0.54\n",
            "Epoch 23, 10% \t train_loss: 0.35 took: 9.27s\n",
            "Epoch 23, 20% \t train_loss: 0.37 took: 9.36s\n",
            "Epoch 23, 30% \t train_loss: 0.39 took: 9.32s\n",
            "Epoch 23, 40% \t train_loss: 0.39 took: 9.30s\n",
            "Epoch 23, 50% \t train_loss: 0.36 took: 9.15s\n",
            "Epoch 23, 60% \t train_loss: 0.35 took: 9.22s\n",
            "Epoch 23, 70% \t train_loss: 0.39 took: 9.17s\n",
            "Epoch 23, 80% \t train_loss: 0.35 took: 9.48s\n",
            "Epoch 23, 90% \t train_loss: 0.34 took: 9.18s\n",
            "Validation loss = 0.52\n",
            "Epoch 24, 10% \t train_loss: 0.31 took: 9.51s\n",
            "Epoch 24, 20% \t train_loss: 0.39 took: 9.42s\n",
            "Epoch 24, 30% \t train_loss: 0.35 took: 9.32s\n",
            "Epoch 24, 40% \t train_loss: 0.33 took: 9.32s\n",
            "Epoch 24, 50% \t train_loss: 0.36 took: 9.21s\n",
            "Epoch 24, 60% \t train_loss: 0.35 took: 9.28s\n",
            "Epoch 24, 70% \t train_loss: 0.37 took: 9.26s\n",
            "Epoch 24, 80% \t train_loss: 0.36 took: 9.35s\n",
            "Epoch 24, 90% \t train_loss: 0.38 took: 9.21s\n",
            "Validation loss = 0.54\n",
            "Epoch 25, 10% \t train_loss: 0.32 took: 9.26s\n",
            "Epoch 25, 20% \t train_loss: 0.33 took: 9.31s\n",
            "Epoch 25, 30% \t train_loss: 0.35 took: 9.22s\n",
            "Epoch 25, 40% \t train_loss: 0.35 took: 9.28s\n",
            "Epoch 25, 50% \t train_loss: 0.31 took: 9.13s\n",
            "Epoch 25, 60% \t train_loss: 0.34 took: 9.12s\n",
            "Epoch 25, 70% \t train_loss: 0.34 took: 9.37s\n",
            "Epoch 25, 80% \t train_loss: 0.34 took: 9.38s\n",
            "Epoch 25, 90% \t train_loss: 0.34 took: 9.32s\n",
            "Validation loss = 0.56\n",
            "Epoch 26, 10% \t train_loss: 0.31 took: 9.19s\n",
            "Epoch 26, 20% \t train_loss: 0.33 took: 9.23s\n",
            "Epoch 26, 30% \t train_loss: 0.31 took: 9.21s\n",
            "Epoch 26, 40% \t train_loss: 0.32 took: 9.11s\n",
            "Epoch 26, 50% \t train_loss: 0.33 took: 9.20s\n",
            "Epoch 26, 60% \t train_loss: 0.35 took: 9.18s\n",
            "Epoch 26, 70% \t train_loss: 0.34 took: 9.14s\n",
            "Epoch 26, 80% \t train_loss: 0.34 took: 9.13s\n",
            "Epoch 26, 90% \t train_loss: 0.33 took: 9.21s\n",
            "Validation loss = 0.53\n",
            "Epoch 27, 10% \t train_loss: 0.31 took: 9.22s\n",
            "Epoch 27, 20% \t train_loss: 0.33 took: 9.32s\n",
            "Epoch 27, 30% \t train_loss: 0.36 took: 9.16s\n",
            "Epoch 27, 40% \t train_loss: 0.34 took: 9.44s\n",
            "Epoch 27, 50% \t train_loss: 0.31 took: 9.45s\n",
            "Epoch 27, 60% \t train_loss: 0.31 took: 9.31s\n",
            "Epoch 27, 70% \t train_loss: 0.31 took: 9.16s\n",
            "Epoch 27, 80% \t train_loss: 0.33 took: 9.24s\n",
            "Epoch 27, 90% \t train_loss: 0.33 took: 9.17s\n",
            "Validation loss = 0.52\n",
            "Epoch 28, 10% \t train_loss: 0.32 took: 9.23s\n",
            "Epoch 28, 20% \t train_loss: 0.31 took: 9.20s\n",
            "Epoch 28, 30% \t train_loss: 0.30 took: 9.27s\n",
            "Epoch 28, 40% \t train_loss: 0.31 took: 9.16s\n",
            "Epoch 28, 50% \t train_loss: 0.30 took: 9.18s\n",
            "Epoch 28, 60% \t train_loss: 0.30 took: 9.05s\n",
            "Epoch 28, 70% \t train_loss: 0.29 took: 9.19s\n",
            "Epoch 28, 80% \t train_loss: 0.38 took: 9.29s\n",
            "Epoch 28, 90% \t train_loss: 0.31 took: 9.40s\n",
            "Validation loss = 0.52\n",
            "Epoch 29, 10% \t train_loss: 0.33 took: 9.15s\n",
            "Epoch 29, 20% \t train_loss: 0.32 took: 9.26s\n",
            "Epoch 29, 30% \t train_loss: 0.31 took: 9.18s\n",
            "Epoch 29, 40% \t train_loss: 0.30 took: 9.24s\n",
            "Epoch 29, 50% \t train_loss: 0.32 took: 9.25s\n",
            "Epoch 29, 60% \t train_loss: 0.31 took: 9.16s\n",
            "Epoch 29, 70% \t train_loss: 0.29 took: 9.11s\n",
            "Epoch 29, 80% \t train_loss: 0.31 took: 9.15s\n",
            "Epoch 29, 90% \t train_loss: 0.32 took: 9.23s\n",
            "Validation loss = 0.61\n",
            "Epoch 30, 10% \t train_loss: 0.28 took: 9.15s\n",
            "Epoch 30, 20% \t train_loss: 0.29 took: 9.23s\n",
            "Epoch 30, 30% \t train_loss: 0.27 took: 9.46s\n",
            "Epoch 30, 40% \t train_loss: 0.29 took: 9.24s\n",
            "Epoch 30, 50% \t train_loss: 0.31 took: 9.36s\n",
            "Epoch 30, 60% \t train_loss: 0.31 took: 9.52s\n",
            "Epoch 30, 70% \t train_loss: 0.32 took: 9.51s\n",
            "Epoch 30, 80% \t train_loss: 0.30 took: 9.53s\n",
            "Epoch 30, 90% \t train_loss: 0.32 took: 9.25s\n",
            "Validation loss = 0.54\n",
            "Training Finished, took 2824.24s\n"
          ],
          "name": "stdout"
        }
      ]
    },
    {
      "metadata": {
        "id": "-EhyxjbqzIhG",
        "colab_type": "code",
        "outputId": "b638caf6-6bb9-40a9-fd41-456fc288387d",
        "colab": {
          "base_uri": "https://localhost:8080/",
          "height": 403
        }
      },
      "cell_type": "code",
      "source": [
        "plot_losses(train_history, val_history)"
      ],
      "execution_count": 0,
      "outputs": [
        {
          "output_type": "display_data",
          "data": {
            "image/png": "[encoded data removed]",
            "text/plain": [
              "<matplotlib.figure.Figure at 0x7f6d85ca47b8>"
            ]
          },
          "metadata": {
            "tags": []
          }
        }
      ]
    },
    {
      "metadata": {
        "id": "5goj78ZezJox",
        "colab_type": "code",
        "outputId": "1a0336a6-1967-442a-8304-ca2f460207fb",
        "colab": {
          "base_uri": "https://localhost:8080/",
          "height": 70
        }
      },
      "cell_type": "code",
      "source": [
        "compute_accuracy(net)"
      ],
      "execution_count": 0,
      "outputs": [
        {
          "output_type": "stream",
          "text": [
            "Accuracy of the network on the 45000 train images: 85.15 %\n",
            "Accuracy of the network on the 5000 validation images: 83.96 %\n",
            "Accuracy of the network on the 10000 test images: 80.47 %\n"
          ],
          "name": "stdout"
        }
      ]
    },
    {
      "metadata": {
        "id": "foh5TsdKzPnA",
        "colab_type": "code",
        "outputId": "3ce589c3-cfdf-48d9-de08-906de6798ea8",
        "colab": {
          "base_uri": "https://localhost:8080/",
          "height": 211
        }
      },
      "cell_type": "code",
      "source": [
        "confusion_matrix = accuracy_per_class(net)"
      ],
      "execution_count": 0,
      "outputs": [
        {
          "output_type": "stream",
          "text": [
            "Class      Accuracy (%)\n",
            "plane        84.63   \n",
            "car          92.28   \n",
            "bird         76.56   \n",
            "cat          67.00   \n",
            "deer         74.95   \n",
            "dog          76.23   \n",
            "frog         80.65   \n",
            "horse        83.64   \n",
            "ship         84.33   \n",
            "truck        85.58   \n"
          ],
          "name": "stdout"
        }
      ]
    },
    {
      "metadata": {
        "id": "fJqEEK6jzTBc",
        "colab_type": "code",
        "outputId": "6c8f7345-7404-410d-823b-e6723377c27f",
        "colab": {
          "base_uri": "https://localhost:8080/",
          "height": 581
        }
      },
      "cell_type": "code",
      "source": [
        "plot_confusion_matrix(confusion_matrix, classes,\n",
        "                      title='Confusion matrix, without normalization')"
      ],
      "execution_count": 0,
      "outputs": [
        {
          "output_type": "display_data",
          "data": {
            "image/png": "[encoded data removed]",
            "text/plain": [
              "<matplotlib.figure.Figure at 0x7f6d8493fcc0>"
            ]
          },
          "metadata": {
            "tags": []
          }
        }
      ]
    },
    {
      "metadata": {
        "id": "dxgiESKAHyGt",
        "colab_type": "code",
        "colab": {}
      },
      "cell_type": "code",
      "source": [
        "from google.colab import files\n",
        "torch.save(net.state_dict(), \"Model2.pwf\") \n",
        "files.download('Model2.pwf')"
      ],
      "execution_count": 0,
      "outputs": []
    },
    {
      "metadata": {
        "id": "ulHmqy79_kTa",
        "colab_type": "text"
      },
      "cell_type": "markdown",
      "source": [
        "## 3. Load and test trained model"
      ]
    },
    {
      "metadata": {
        "id": "KpXxyWQJKNai",
        "colab_type": "code",
        "colab": {}
      },
      "cell_type": "code",
      "source": [
        "from google.colab import files\n",
        "uploaded = files.upload()\n",
        "\n",
        "for fn in uploaded.keys():\n",
        "  print('User uploaded file \"{name}\" with length {length} bytes'.format(\n",
        "      name=fn, length=len(uploaded[fn])))"
      ],
      "execution_count": 0,
      "outputs": []
    },
    {
      "metadata": {
        "id": "Cvahik9KNfrI",
        "colab_type": "code",
        "colab": {}
      },
      "cell_type": "code",
      "source": [
        "tnet = MyConvolutionalNetwork2()\n",
        "tnet.load_state_dict(torch.load(\"Model.pwf\"))\n"
      ],
      "execution_count": 0,
      "outputs": []
    },
    {
      "metadata": {
        "id": "_mN3LlobN11A",
        "colab_type": "code",
        "outputId": "e779e227-3d23-4b49-dd87-20ecaf641999",
        "colab": {
          "base_uri": "https://localhost:8080/",
          "height": 70
        }
      },
      "cell_type": "code",
      "source": [
        "compute_accuracy(tnet)"
      ],
      "execution_count": 38,
      "outputs": [
        {
          "output_type": "stream",
          "text": [
            "Accuracy of the network on the 45000 train images: 86.69 %\n",
            "Accuracy of the network on the 5000 validation images: 85.04 %\n",
            "Accuracy of the network on the 10000 test images: 80.78 %\n"
          ],
          "name": "stdout"
        }
      ]
    },
    {
      "metadata": {
        "id": "1Nt1nvv__VOB",
        "colab_type": "code",
        "colab": {}
      },
      "cell_type": "code",
      "source": [
        "confusion_matrix = accuracy_per_class(tnet)"
      ],
      "execution_count": 0,
      "outputs": []
    },
    {
      "metadata": {
        "colab_type": "code",
        "id": "5_w_T8_Q_Wbj",
        "colab": {}
      },
      "cell_type": "code",
      "source": [
        "plot_confusion_matrix(confusion_matrix, classes,\n",
        "                      title='Confusion matrix, without normalization')"
      ],
      "execution_count": 0,
      "outputs": []
    }
  ]
}